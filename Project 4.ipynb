{
 "cells": [
  {
   "cell_type": "code",
   "execution_count": null,
   "metadata": {},
   "outputs": [],
   "source": [
    "# import the needed package\n",
    "import pandas as pd "
   ]
  },
  {
   "cell_type": "code",
   "execution_count": null,
   "metadata": {},
   "outputs": [],
   "source": [
    "def p_kmers(k, seq):\n",
    "    # gets the counts for the possible kmers using the correct \n",
    "    # formula\n",
    "    l = len(seq)\n",
    "    count = 0\n",
    "    if 4 ** k > 1:\n",
    "        count = l - k + 1\n",
    "    elif 4 ** k <= l:\n",
    "        count = 4 ** k\n",
    "    return count "
   ]
  },
  {
   "cell_type": "code",
   "execution_count": null,
   "metadata": {},
   "outputs": [],
   "source": [
    "def o_kmers(k, seq):\n",
    "    # creates a list that observed kmers can be appended to \n",
    "    obs_k = []\n",
    "    l = len(seq)\n",
    "    for i in range(l - k + 1):\n",
    "        kmer = ''\n",
    "        for n in range(k):\n",
    "            kmer = kmer + seq[i + n]\n",
    "            \n",
    "        if kmer not in obs_k:\n",
    "            obs_k.append(kmer)\n",
    "        else:\n",
    "            continue\n",
    "    return len(obs_k)"
   ]
  },
  {
   "cell_type": "code",
   "execution_count": null,
   "metadata": {},
   "outputs": [],
   "source": [
    "def dataframe(l, seq):\n",
    "    observed_l = []\n",
    "    possible_l = []\n",
    "    total_l = []\n",
    "    # appends values into a list to be able to create a dataframe\n",
    "    for k in range(1,l+1):\n",
    "        observed_kmers = o_kmers(k, seq)\n",
    "        possible_kmers = p_kmers(k, seq)\n",
    "        observed_l.append(observed_kmers)\n",
    "        possible_l.append(possible_kmers)\n",
    "        total_l.append(k)\n",
    "    # creates the dataframe and shows what the columns will be and the \n",
    "    # values that will correspond with the column\n",
    "    df = pd.DataFrame({'k': total_l, 'Observed kmers': observed_l, 'Possible kmers': possible_l})\n",
    "    return df"
   ]
  },
  {
   "cell_type": "code",
   "execution_count": null,
   "metadata": {},
   "outputs": [],
   "source": [
    "def linguistic_comp(df):\n",
    "    \"\"\"\n",
    "    Calculates the linguistic complexity for the string \n",
    "    Does this by dividing the observed kmers by the possible kmers\n",
    "    \"\"\"\n",
    "    # calculates the sum of the observed and possible kmers from the \n",
    "    # dataframe and saves it as a new variable\n",
    "    observed_comp = df['Observed kmers'].sum()\n",
    "    possible_comp = df['Possible kmers'].sum()\n",
    "    \n",
    "    return observed_comp/possible_comp\n"
   ]
  },
  {
   "cell_type": "code",
   "execution_count": 81,
   "metadata": {},
   "outputs": [],
   "source": [
    "def main():\n",
    "    \n",
    "    # imputs the desired sequence from project\n",
    "    seq = 'ATTTGGATT'\n",
    "    \n",
    "    # creates the dataframe for the sequence\n",
    "    df = dataframe(9, seq)\n",
    "    \n",
    "    print(\"Below shows the data table showing the number of k's and the possible and observed kmers that are associated with the k\")\n",
    "    print(\"____________________________________________\")\n",
    "    print(df)\n",
    "    print(\"____________________________________________\")\n",
    "    print(\"Below shows the linguistic complexity of the sequence\")\n",
    "    print(linguistic_comp(df))\n",
    "    "
   ]
  },
  {
   "cell_type": "code",
   "execution_count": 82,
   "metadata": {
    "scrolled": true
   },
   "outputs": [
    {
     "name": "stdout",
     "output_type": "stream",
     "text": [
      "Below shows the data table showing the number of k's and the possible and observed kmers that are associated with the k\n",
      "____________________________________________\n",
      "   k  Observed kmers  Possible kmers\n",
      "0  1               3               9\n",
      "1  2               5               8\n",
      "2  3               6               7\n",
      "3  4               6               6\n",
      "4  5               5               5\n",
      "5  6               4               4\n",
      "6  7               3               3\n",
      "7  8               2               2\n",
      "8  9               1               1\n",
      "____________________________________________\n",
      "Below shows the linguistic complexity of the sequence\n",
      "0.7777777777777778\n"
     ]
    }
   ],
   "source": [
    "main()"
   ]
  },
  {
   "cell_type": "code",
   "execution_count": null,
   "metadata": {},
   "outputs": [],
   "source": []
  },
  {
   "cell_type": "code",
   "execution_count": null,
   "metadata": {},
   "outputs": [],
   "source": []
  }
 ],
 "metadata": {
  "kernelspec": {
   "display_name": "Python 3",
   "language": "python",
   "name": "python3"
  },
  "language_info": {
   "codemirror_mode": {
    "name": "ipython",
    "version": 3
   },
   "file_extension": ".py",
   "mimetype": "text/x-python",
   "name": "python",
   "nbconvert_exporter": "python",
   "pygments_lexer": "ipython3",
   "version": "3.6.8"
  }
 },
 "nbformat": 4,
 "nbformat_minor": 2
}
